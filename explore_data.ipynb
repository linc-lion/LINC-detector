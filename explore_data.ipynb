{
 "cells": [
  {
   "cell_type": "markdown",
   "metadata": {},
   "source": [
    "# Explore Verified_Annotation/ data"
   ]
  },
  {
   "cell_type": "code",
   "execution_count": null,
   "metadata": {},
   "outputs": [],
   "source": [
    "import os\n",
    "import xml.etree.ElementTree as ET\n",
    "import collections\n",
    "from PIL import Image, ImageDraw\n",
    "from matplotlib.pyplot import figure, imshow, show\n",
    "import matplotlib\n",
    "\n",
    "import numpy as np\n",
    "%matplotlib inline\n",
    "\n",
    "ROOT = '/mnt/hdd1/lalo/Verified_Annotation/'\n",
    "VERT_SIZE = 300\n",
    "DPI = 230\n",
    "\n",
    "\n",
    "def parse_voc_xml(node):\n",
    "    voc_dict = {}\n",
    "    children = list(node)\n",
    "    if children:\n",
    "        def_dic = collections.defaultdict(list)\n",
    "        for dc in map(parse_voc_xml, children):\n",
    "            for ind, v in dc.items():\n",
    "                def_dic[ind].append(v)\n",
    "        voc_dict = {\n",
    "            node.tag:\n",
    "                {ind: v[0] if len(v) == 1 else v\n",
    "                 for ind, v in def_dic.items()}\n",
    "        }\n",
    "    if node.text:\n",
    "        text = node.text.strip()\n",
    "        if not children:\n",
    "            voc_dict[node.tag] = text\n",
    "    return voc_dict\n",
    "\n",
    "def draw_boxes(image, objects):\n",
    "    hor_size = image.size[1]\n",
    "    scale_factor = VERT_SIZE / image.size[1]\n",
    "    new_width = image.size[0] * scale_factor\n",
    "    image.thumbnail((new_width, VERT_SIZE))\n",
    "    draw = ImageDraw.Draw(image)\n",
    "\n",
    "\n",
    "    \n",
    "    for o in objects:\n",
    "        box = o['bndbox']\n",
    "        box = scale_factor * np.array(\n",
    "            [float(box['xmin']), float(box['ymin']),\n",
    "             float(box['xmax']), float(box['ymax'])]\n",
    "        )\n",
    "        draw.rectangle(\n",
    "            ((box[0], box[1]), (box[2], box[3])),\n",
    "             outline='red', width=4\n",
    "        )\n",
    "        draw.text((box[0], box[1]), str(o['name']))\n",
    "    return image"
   ]
  },
  {
   "cell_type": "code",
   "execution_count": null,
   "metadata": {
    "scrolled": false
   },
   "outputs": [],
   "source": [
    "# This can't be set on the previous cell for 'reasons'\n",
    "matplotlib.rcParams['figure.dpi'] = DPI\n",
    "\n",
    "for root, dirs, files in os.walk(ROOT):\n",
    "    dirs.sort()\n",
    "    for file_name in [os.path.join(root, f) for f in files]:\n",
    "        if os.path.splitext(file_name)[1] == '.xml':\n",
    "            print(file_name)\n",
    "            data = parse_voc_xml(ET.parse(file_name).getroot())\n",
    "            \n",
    "            try:\n",
    "                objects = data['annotation']['object']\n",
    "            except KeyError:\n",
    "                continue\n",
    "                \n",
    "            objects = objects if type(objects) is list else [objects]\n",
    "            image_path = os.path.join(root, data['annotation']['filename'])\n",
    "            image_name = os.path.basename(image_path)\n",
    "            img = draw_boxes(Image.open(image_path), objects)\n",
    "            figure()\n",
    "            imshow(np.asarray(img))\n",
    "            show()"
   ]
  }
 ],
 "metadata": {
  "kernelspec": {
   "display_name": "Python 3",
   "language": "python",
   "name": "python3"
  },
  "language_info": {
   "codemirror_mode": {
    "name": "ipython",
    "version": 3
   },
   "file_extension": ".py",
   "mimetype": "text/x-python",
   "name": "python",
   "nbconvert_exporter": "python",
   "pygments_lexer": "ipython3",
   "version": "3.6.7"
  }
 },
 "nbformat": 4,
 "nbformat_minor": 2
}
