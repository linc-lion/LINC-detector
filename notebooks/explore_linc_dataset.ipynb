{
 "cells": [
  {
   "cell_type": "markdown",
   "metadata": {},
   "source": [
    "# Explore \"Verified_Annotation/\" data"
   ]
  },
  {
   "cell_type": "code",
   "execution_count": 1,
   "metadata": {},
   "outputs": [
    {
     "data": {
      "text/plain": [
       "'/Users/sglee/work/git/linc/LINC-detector'"
      ]
     },
     "execution_count": 1,
     "metadata": {},
     "output_type": "execute_result"
    }
   ],
   "source": [
    "# Get parent directory\n",
    "if 'parent_dir' not in globals():\n",
    "    import os\n",
    "    current_dir = os.getcwd()\n",
    "    parent_dir = os.path.abspath(os.path.join(current_dir, os.pardir))\n",
    "parent_dir"
   ]
  },
  {
   "cell_type": "code",
   "execution_count": 2,
   "metadata": {},
   "outputs": [
    {
     "name": "stdout",
     "output_type": "stream",
     "text": [
      "/Users/sglee/work/git/linc/LINC-detector\n"
     ]
    }
   ],
   "source": [
    "cd $parent_dir"
   ]
  },
  {
   "cell_type": "markdown",
   "metadata": {},
   "source": [
    "### Arguments"
   ]
  },
  {
   "cell_type": "code",
   "execution_count": 3,
   "metadata": {},
   "outputs": [],
   "source": [
    "ROOT = 'datasets/Verified_Annotation'\n",
    "VERT_SIZE = 500\n",
    "DPI = 400\n",
    "\n",
    "# Filters\n",
    "def ignore_picture(objects):\n",
    "    return False\n",
    "    # labels = set(o['name'] for o in objects)\n",
    "    # if not('ws' in labels):\n",
    "    #     return True\n",
    "    # return False\n",
    "\n",
    "def filter_objects(objects):\n",
    "    # Filter markings\n",
    "    objects = [o for o in objects if not('marking' in o['name'])]\n",
    "    return objects"
   ]
  },
  {
   "cell_type": "markdown",
   "metadata": {},
   "source": [
    "### Code"
   ]
  },
  {
   "cell_type": "code",
   "execution_count": 4,
   "metadata": {},
   "outputs": [],
   "source": [
    "import os\n",
    "import xml.etree.ElementTree as ET\n",
    "import collections\n",
    "from PIL import Image, ImageDraw\n",
    "from matplotlib.pyplot import figure, imshow, show\n",
    "import matplotlib\n",
    "\n",
    "import numpy as np\n",
    "%matplotlib inline\n",
    "\n",
    "\n",
    "def parse_voc_xml(node):\n",
    "    voc_dict = {}\n",
    "    children = list(node)\n",
    "    if children:\n",
    "        def_dic = collections.defaultdict(list)\n",
    "        for dc in map(parse_voc_xml, children):\n",
    "            for ind, v in dc.items():\n",
    "                def_dic[ind].append(v)\n",
    "        voc_dict = {\n",
    "            node.tag:\n",
    "                {ind: v[0] if len(v) == 1 else v\n",
    "                 for ind, v in def_dic.items()}\n",
    "        }\n",
    "    if node.text:\n",
    "        text = node.text.strip()\n",
    "        if not children:\n",
    "            voc_dict[node.tag] = text\n",
    "    return voc_dict\n",
    "\n",
    "def draw_boxes(image, objects):\n",
    "    hor_size = image.size[1]\n",
    "    scale_factor = VERT_SIZE / image.size[1]\n",
    "    new_width = image.size[0] * scale_factor\n",
    "    image = image.resize((int(new_width), int(VERT_SIZE)), Image.ANTIALIAS)\n",
    "    draw = ImageDraw.Draw(image)\n",
    "\n",
    "    labels_found = set()\n",
    "    for o in objects:\n",
    "        box = o['bndbox']\n",
    "        box = scale_factor * np.array(\n",
    "            [float(box['xmin']), float(box['ymin']),\n",
    "             float(box['xmax']), float(box['ymax'])]\n",
    "        )\n",
    "        draw.rectangle(\n",
    "            ((box[0], box[1]), (box[2], box[3])),\n",
    "             outline='red', width=2\n",
    "        )\n",
    "        label = str(o['name'])\n",
    "        draw.text((box[0], box[1]), label)\n",
    "        labels_found.add(label)\n",
    "    print(labels_found)\n",
    "    return image"
   ]
  },
  {
   "cell_type": "code",
   "execution_count": null,
   "metadata": {},
   "outputs": [],
   "source": [
    "# This can't be set on the previous cell for'reasons'\n",
    "matplotlib.rcParams['figure.dpi'] = DPI\n",
    "\n",
    "# Iterate over .xml files\n",
    "num_picture = 1\n",
    "max_num_picture = 1 # max pictures to be displayed\n",
    "for root, dirs, files in os.walk(ROOT):\n",
    "    dirs.sort()\n",
    "    for file_name in [os.path.join(root, f) for f in files]:\n",
    "        if num_picture > max_num_picture:\n",
    "            break\n",
    "        if os.path.splitext(file_name)[1] == '.xml':\n",
    "            # Get objects\n",
    "            data = parse_voc_xml(ET.parse(file_name).getroot())\n",
    "            try:\n",
    "                objects = data['annotation']['object']\n",
    "            except KeyError:\n",
    "                objects = []\n",
    "            objects = objects if type(objects) is list else [objects]\n",
    "            \n",
    "            # Apply some filters\n",
    "            if ignore_picture(objects): continue\n",
    "            objects = filter_objects(objects)\n",
    "            \n",
    "            # Display data\n",
    "            print('\\n\\n')\n",
    "            print(file_name)\n",
    "            print(f\"Image number: {num_picture}\")\n",
    "            \n",
    "            image_path = os.path.join(root, data['annotation']['filename'])\n",
    "            image_name = os.path.basename(image_path)\n",
    "            image = Image.open(image_path)\n",
    "            print(image.size)\n",
    "            image_with_boxes = draw_boxes(image, objects)\n",
    "            figure()\n",
    "            imshow(np.asarray(image_with_boxes))\n",
    "            show()\n",
    "            num_picture += 1"
   ]
  },
  {
   "cell_type": "code",
   "execution_count": null,
   "metadata": {},
   "outputs": [],
   "source": []
  }
 ],
 "metadata": {
  "kernelspec": {
   "display_name": "Python 3 (ipykernel)",
   "language": "python",
   "name": "python3"
  },
  "language_info": {
   "codemirror_mode": {
    "name": "ipython",
    "version": 3
   },
   "file_extension": ".py",
   "mimetype": "text/x-python",
   "name": "python",
   "nbconvert_exporter": "python",
   "pygments_lexer": "ipython3",
   "version": "3.7.13"
  }
 },
 "nbformat": 4,
 "nbformat_minor": 4
}
