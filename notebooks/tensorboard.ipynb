{
 "cells": [
  {
   "cell_type": "code",
   "execution_count": 1,
   "id": "0daae83e-fdde-4849-b3d3-4b8a199e7969",
   "metadata": {},
   "outputs": [
    {
     "data": {
      "text/plain": [
       "'/Users/sglee/work/git/linc/LINC-detector'"
      ]
     },
     "execution_count": 1,
     "metadata": {},
     "output_type": "execute_result"
    }
   ],
   "source": [
    "# Get parent directory\n",
    "if 'parent_dir' not in globals():\n",
    "    import os\n",
    "    current_dir = os.getcwd()\n",
    "    parent_dir = os.path.abspath(os.path.join(current_dir, os.pardir))\n",
    "parent_dir"
   ]
  },
  {
   "cell_type": "code",
   "execution_count": 2,
   "id": "93ba0593-9549-46ee-bc9f-bee8c4b21586",
   "metadata": {},
   "outputs": [
    {
     "name": "stdout",
     "output_type": "stream",
     "text": [
      "/Users/sglee/work/git/linc/LINC-detector\n"
     ]
    }
   ],
   "source": [
    "cd $parent_dir"
   ]
  },
  {
   "cell_type": "code",
   "execution_count": 3,
   "id": "4aa7fbd1-fb52-4423-8200-a52faf5c8147",
   "metadata": {},
   "outputs": [
    {
     "name": "stdout",
     "output_type": "stream",
     "text": [
      "Requirement already satisfied: tensorflow==2.10.0 in /Users/sglee/anaconda3/envs/linc-detector-jupyter/lib/python3.8/site-packages (from -r requirements.txt (line 1)) (2.10.0)\n",
      "Requirement already satisfied: numpy==1.23.3 in /Users/sglee/anaconda3/envs/linc-detector-jupyter/lib/python3.8/site-packages (from -r requirements.txt (line 2)) (1.23.3)\n",
      "Requirement already satisfied: torch==1.10.1 in /Users/sglee/anaconda3/envs/linc-detector-jupyter/lib/python3.8/site-packages (from -r requirements.txt (line 3)) (1.10.1)\n",
      "Requirement already satisfied: torchvision==0.11.2 in /Users/sglee/anaconda3/envs/linc-detector-jupyter/lib/python3.8/site-packages (from -r requirements.txt (line 4)) (0.11.2)\n",
      "Requirement already satisfied: future==0.17.1 in /Users/sglee/anaconda3/envs/linc-detector-jupyter/lib/python3.8/site-packages (from -r requirements.txt (line 5)) (0.17.1)\n",
      "Requirement already satisfied: typing-extensions>=3.6.6 in /Users/sglee/anaconda3/envs/linc-detector-jupyter/lib/python3.8/site-packages (from tensorflow==2.10.0->-r requirements.txt (line 1)) (4.3.0)\n",
      "Requirement already satisfied: setuptools in /Users/sglee/anaconda3/envs/linc-detector-jupyter/lib/python3.8/site-packages (from tensorflow==2.10.0->-r requirements.txt (line 1)) (59.5.0)\n",
      "Requirement already satisfied: tensorboard<2.11,>=2.10 in /Users/sglee/anaconda3/envs/linc-detector-jupyter/lib/python3.8/site-packages (from tensorflow==2.10.0->-r requirements.txt (line 1)) (2.10.0)\n",
      "Requirement already satisfied: libclang>=13.0.0 in /Users/sglee/anaconda3/envs/linc-detector-jupyter/lib/python3.8/site-packages (from tensorflow==2.10.0->-r requirements.txt (line 1)) (14.0.6)\n",
      "Requirement already satisfied: absl-py>=1.0.0 in /Users/sglee/anaconda3/envs/linc-detector-jupyter/lib/python3.8/site-packages (from tensorflow==2.10.0->-r requirements.txt (line 1)) (1.2.0)\n",
      "Requirement already satisfied: opt-einsum>=2.3.2 in /Users/sglee/anaconda3/envs/linc-detector-jupyter/lib/python3.8/site-packages (from tensorflow==2.10.0->-r requirements.txt (line 1)) (3.3.0)\n",
      "Requirement already satisfied: keras<2.11,>=2.10.0 in /Users/sglee/anaconda3/envs/linc-detector-jupyter/lib/python3.8/site-packages (from tensorflow==2.10.0->-r requirements.txt (line 1)) (2.10.0)\n",
      "Requirement already satisfied: h5py>=2.9.0 in /Users/sglee/anaconda3/envs/linc-detector-jupyter/lib/python3.8/site-packages (from tensorflow==2.10.0->-r requirements.txt (line 1)) (3.7.0)\n",
      "Requirement already satisfied: astunparse>=1.6.0 in /Users/sglee/anaconda3/envs/linc-detector-jupyter/lib/python3.8/site-packages (from tensorflow==2.10.0->-r requirements.txt (line 1)) (1.6.3)\n",
      "Requirement already satisfied: tensorflow-io-gcs-filesystem>=0.23.1 in /Users/sglee/anaconda3/envs/linc-detector-jupyter/lib/python3.8/site-packages (from tensorflow==2.10.0->-r requirements.txt (line 1)) (0.27.0)\n",
      "Requirement already satisfied: protobuf<3.20,>=3.9.2 in /Users/sglee/anaconda3/envs/linc-detector-jupyter/lib/python3.8/site-packages (from tensorflow==2.10.0->-r requirements.txt (line 1)) (3.19.5)\n",
      "Requirement already satisfied: flatbuffers>=2.0 in /Users/sglee/anaconda3/envs/linc-detector-jupyter/lib/python3.8/site-packages (from tensorflow==2.10.0->-r requirements.txt (line 1)) (2.0.7)\n",
      "Requirement already satisfied: wrapt>=1.11.0 in /Users/sglee/anaconda3/envs/linc-detector-jupyter/lib/python3.8/site-packages (from tensorflow==2.10.0->-r requirements.txt (line 1)) (1.14.1)\n",
      "Requirement already satisfied: six>=1.12.0 in /Users/sglee/anaconda3/envs/linc-detector-jupyter/lib/python3.8/site-packages (from tensorflow==2.10.0->-r requirements.txt (line 1)) (1.16.0)\n",
      "Requirement already satisfied: tensorflow-estimator<2.11,>=2.10.0 in /Users/sglee/anaconda3/envs/linc-detector-jupyter/lib/python3.8/site-packages (from tensorflow==2.10.0->-r requirements.txt (line 1)) (2.10.0)\n",
      "Requirement already satisfied: gast<=0.4.0,>=0.2.1 in /Users/sglee/anaconda3/envs/linc-detector-jupyter/lib/python3.8/site-packages (from tensorflow==2.10.0->-r requirements.txt (line 1)) (0.4.0)\n",
      "Requirement already satisfied: google-pasta>=0.1.1 in /Users/sglee/anaconda3/envs/linc-detector-jupyter/lib/python3.8/site-packages (from tensorflow==2.10.0->-r requirements.txt (line 1)) (0.2.0)\n",
      "Requirement already satisfied: keras-preprocessing>=1.1.1 in /Users/sglee/anaconda3/envs/linc-detector-jupyter/lib/python3.8/site-packages (from tensorflow==2.10.0->-r requirements.txt (line 1)) (1.1.2)\n",
      "Requirement already satisfied: termcolor>=1.1.0 in /Users/sglee/anaconda3/envs/linc-detector-jupyter/lib/python3.8/site-packages (from tensorflow==2.10.0->-r requirements.txt (line 1)) (2.0.1)\n",
      "Requirement already satisfied: packaging in /Users/sglee/anaconda3/envs/linc-detector-jupyter/lib/python3.8/site-packages (from tensorflow==2.10.0->-r requirements.txt (line 1)) (21.3)\n",
      "Requirement already satisfied: grpcio<2.0,>=1.24.3 in /Users/sglee/anaconda3/envs/linc-detector-jupyter/lib/python3.8/site-packages (from tensorflow==2.10.0->-r requirements.txt (line 1)) (1.48.1)\n",
      "Requirement already satisfied: pillow!=8.3.0,>=5.3.0 in /Users/sglee/anaconda3/envs/linc-detector-jupyter/lib/python3.8/site-packages (from torchvision==0.11.2->-r requirements.txt (line 4)) (9.2.0)\n",
      "Requirement already satisfied: wheel<1.0,>=0.23.0 in /Users/sglee/anaconda3/envs/linc-detector-jupyter/lib/python3.8/site-packages (from astunparse>=1.6.0->tensorflow==2.10.0->-r requirements.txt (line 1)) (0.37.1)\n",
      "Requirement already satisfied: google-auth<3,>=1.6.3 in /Users/sglee/anaconda3/envs/linc-detector-jupyter/lib/python3.8/site-packages (from tensorboard<2.11,>=2.10->tensorflow==2.10.0->-r requirements.txt (line 1)) (2.11.0)\n",
      "Requirement already satisfied: markdown>=2.6.8 in /Users/sglee/anaconda3/envs/linc-detector-jupyter/lib/python3.8/site-packages (from tensorboard<2.11,>=2.10->tensorflow==2.10.0->-r requirements.txt (line 1)) (3.4.1)\n",
      "Requirement already satisfied: google-auth-oauthlib<0.5,>=0.4.1 in /Users/sglee/anaconda3/envs/linc-detector-jupyter/lib/python3.8/site-packages (from tensorboard<2.11,>=2.10->tensorflow==2.10.0->-r requirements.txt (line 1)) (0.4.6)\n",
      "Requirement already satisfied: tensorboard-plugin-wit>=1.6.0 in /Users/sglee/anaconda3/envs/linc-detector-jupyter/lib/python3.8/site-packages (from tensorboard<2.11,>=2.10->tensorflow==2.10.0->-r requirements.txt (line 1)) (1.8.1)\n",
      "Requirement already satisfied: tensorboard-data-server<0.7.0,>=0.6.0 in /Users/sglee/anaconda3/envs/linc-detector-jupyter/lib/python3.8/site-packages (from tensorboard<2.11,>=2.10->tensorflow==2.10.0->-r requirements.txt (line 1)) (0.6.1)\n",
      "Requirement already satisfied: requests<3,>=2.21.0 in /Users/sglee/anaconda3/envs/linc-detector-jupyter/lib/python3.8/site-packages (from tensorboard<2.11,>=2.10->tensorflow==2.10.0->-r requirements.txt (line 1)) (2.28.1)\n",
      "Requirement already satisfied: werkzeug>=1.0.1 in /Users/sglee/anaconda3/envs/linc-detector-jupyter/lib/python3.8/site-packages (from tensorboard<2.11,>=2.10->tensorflow==2.10.0->-r requirements.txt (line 1)) (2.2.2)\n",
      "Requirement already satisfied: pyparsing!=3.0.5,>=2.0.2 in /Users/sglee/anaconda3/envs/linc-detector-jupyter/lib/python3.8/site-packages (from packaging->tensorflow==2.10.0->-r requirements.txt (line 1)) (3.0.9)\n",
      "Requirement already satisfied: cachetools<6.0,>=2.0.0 in /Users/sglee/anaconda3/envs/linc-detector-jupyter/lib/python3.8/site-packages (from google-auth<3,>=1.6.3->tensorboard<2.11,>=2.10->tensorflow==2.10.0->-r requirements.txt (line 1)) (5.2.0)\n",
      "Requirement already satisfied: pyasn1-modules>=0.2.1 in /Users/sglee/anaconda3/envs/linc-detector-jupyter/lib/python3.8/site-packages (from google-auth<3,>=1.6.3->tensorboard<2.11,>=2.10->tensorflow==2.10.0->-r requirements.txt (line 1)) (0.2.8)\n",
      "Requirement already satisfied: rsa<5,>=3.1.4 in /Users/sglee/anaconda3/envs/linc-detector-jupyter/lib/python3.8/site-packages (from google-auth<3,>=1.6.3->tensorboard<2.11,>=2.10->tensorflow==2.10.0->-r requirements.txt (line 1)) (4.9)\n",
      "Requirement already satisfied: requests-oauthlib>=0.7.0 in /Users/sglee/anaconda3/envs/linc-detector-jupyter/lib/python3.8/site-packages (from google-auth-oauthlib<0.5,>=0.4.1->tensorboard<2.11,>=2.10->tensorflow==2.10.0->-r requirements.txt (line 1)) (1.3.1)\n",
      "Requirement already satisfied: importlib-metadata>=4.4 in /Users/sglee/anaconda3/envs/linc-detector-jupyter/lib/python3.8/site-packages (from markdown>=2.6.8->tensorboard<2.11,>=2.10->tensorflow==2.10.0->-r requirements.txt (line 1)) (4.12.0)\n",
      "Requirement already satisfied: urllib3<1.27,>=1.21.1 in /Users/sglee/anaconda3/envs/linc-detector-jupyter/lib/python3.8/site-packages (from requests<3,>=2.21.0->tensorboard<2.11,>=2.10->tensorflow==2.10.0->-r requirements.txt (line 1)) (1.26.12)\n",
      "Requirement already satisfied: idna<4,>=2.5 in /Users/sglee/anaconda3/envs/linc-detector-jupyter/lib/python3.8/site-packages (from requests<3,>=2.21.0->tensorboard<2.11,>=2.10->tensorflow==2.10.0->-r requirements.txt (line 1)) (3.4)\n",
      "Requirement already satisfied: charset-normalizer<3,>=2 in /Users/sglee/anaconda3/envs/linc-detector-jupyter/lib/python3.8/site-packages (from requests<3,>=2.21.0->tensorboard<2.11,>=2.10->tensorflow==2.10.0->-r requirements.txt (line 1)) (2.1.1)\n",
      "Requirement already satisfied: certifi>=2017.4.17 in /Users/sglee/anaconda3/envs/linc-detector-jupyter/lib/python3.8/site-packages (from requests<3,>=2.21.0->tensorboard<2.11,>=2.10->tensorflow==2.10.0->-r requirements.txt (line 1)) (2022.9.14)\n",
      "Requirement already satisfied: MarkupSafe>=2.1.1 in /Users/sglee/anaconda3/envs/linc-detector-jupyter/lib/python3.8/site-packages (from werkzeug>=1.0.1->tensorboard<2.11,>=2.10->tensorflow==2.10.0->-r requirements.txt (line 1)) (2.1.1)\n",
      "Requirement already satisfied: zipp>=0.5 in /Users/sglee/anaconda3/envs/linc-detector-jupyter/lib/python3.8/site-packages (from importlib-metadata>=4.4->markdown>=2.6.8->tensorboard<2.11,>=2.10->tensorflow==2.10.0->-r requirements.txt (line 1)) (3.8.1)\n",
      "Requirement already satisfied: pyasn1<0.5.0,>=0.4.6 in /Users/sglee/anaconda3/envs/linc-detector-jupyter/lib/python3.8/site-packages (from pyasn1-modules>=0.2.1->google-auth<3,>=1.6.3->tensorboard<2.11,>=2.10->tensorflow==2.10.0->-r requirements.txt (line 1)) (0.4.8)\n",
      "Requirement already satisfied: oauthlib>=3.0.0 in /Users/sglee/anaconda3/envs/linc-detector-jupyter/lib/python3.8/site-packages (from requests-oauthlib>=0.7.0->google-auth-oauthlib<0.5,>=0.4.1->tensorboard<2.11,>=2.10->tensorflow==2.10.0->-r requirements.txt (line 1)) (3.2.1)\n",
      "Note: you may need to restart the kernel to use updated packages.\n"
     ]
    }
   ],
   "source": [
    "pip install -r requirements.txt"
   ]
  },
  {
   "cell_type": "code",
   "execution_count": 6,
   "id": "ff663027-7a32-4c66-a38f-bf012b546067",
   "metadata": {},
   "outputs": [
    {
     "name": "stdout",
     "output_type": "stream",
     "text": [
      "The tensorboard extension is already loaded. To reload it, use:\n",
      "  %reload_ext tensorboard\n"
     ]
    }
   ],
   "source": [
    "from tensorboard import notebook\n",
    "%load_ext tensorboard"
   ]
  },
  {
   "cell_type": "code",
   "execution_count": 13,
   "id": "030f8d9e-211a-4bcb-83c1-b51ee9d31800",
   "metadata": {},
   "outputs": [],
   "source": [
    "# %tensorboard --logdir \"./runs\""
   ]
  },
  {
   "cell_type": "code",
   "execution_count": 12,
   "id": "95e7b29c-7e44-44d7-91a2-3335b0c86768",
   "metadata": {},
   "outputs": [
    {
     "name": "stdout",
     "output_type": "stream",
     "text": [
      "Selecting TensorBoard with logdir ./runs (started 0:00:17 ago; port 6006, pid 64745).\n"
     ]
    },
    {
     "data": {
      "text/html": [
       "\n",
       "      <iframe id=\"tensorboard-frame-649e7d08e94f0a9b\" width=\"100%\" height=\"1000\" frameborder=\"0\">\n",
       "      </iframe>\n",
       "      <script>\n",
       "        (function() {\n",
       "          const frame = document.getElementById(\"tensorboard-frame-649e7d08e94f0a9b\");\n",
       "          const url = new URL(\"/\", window.location);\n",
       "          const port = 6006;\n",
       "          if (port) {\n",
       "            url.port = port;\n",
       "          }\n",
       "          frame.src = url;\n",
       "        })();\n",
       "      </script>\n",
       "    "
      ],
      "text/plain": [
       "<IPython.core.display.HTML object>"
      ]
     },
     "metadata": {},
     "output_type": "display_data"
    }
   ],
   "source": [
    "notebook.display(port=6006, height=1000)"
   ]
  },
  {
   "cell_type": "code",
   "execution_count": null,
   "id": "ca08f6b8-d7ad-4253-837e-56f94cbdde80",
   "metadata": {},
   "outputs": [],
   "source": []
  }
 ],
 "metadata": {
  "kernelspec": {
   "display_name": "Python 3 (ipykernel)",
   "language": "python",
   "name": "python3"
  },
  "language_info": {
   "codemirror_mode": {
    "name": "ipython",
    "version": 3
   },
   "file_extension": ".py",
   "mimetype": "text/x-python",
   "name": "python",
   "nbconvert_exporter": "python",
   "pygments_lexer": "ipython3",
   "version": "3.8.13"
  }
 },
 "nbformat": 4,
 "nbformat_minor": 5
}
