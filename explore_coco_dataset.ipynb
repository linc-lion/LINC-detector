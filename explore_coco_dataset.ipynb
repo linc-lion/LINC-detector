{
 "cells": [
  {
   "cell_type": "markdown",
   "metadata": {},
   "source": [
    "# Explore coco dataset"
   ]
  },
  {
   "cell_type": "markdown",
   "metadata": {},
   "source": [
    "## Arguments"
   ]
  },
  {
   "cell_type": "code",
   "execution_count": null,
   "metadata": {},
   "outputs": [],
   "source": [
    "# Dataset to explore. It must be in COCO format.\n",
    "data_path = 'datasets/ws/'\n",
    "\n",
    "# Configure notebook here\n",
    "draw_threshold = 0.5\n",
    "DPI = 220\n",
    "vert_size = 500  # Set to None for no scaling of images\n",
    "line_width = 3\n",
    "workers = 4\n",
    "draw_labels = True"
   ]
  },
  {
   "cell_type": "markdown",
   "metadata": {},
   "source": [
    "## Code"
   ]
  },
  {
   "cell_type": "code",
   "execution_count": null,
   "metadata": {},
   "outputs": [],
   "source": [
    "import time\n",
    "from coco_utils import get_coco  # get_coco_kp\n",
    "from torchvision import transforms\n",
    "import torchvision\n",
    "import torchvision.models.detection\n",
    "import transforms as T\n",
    "import torch\n",
    "import utils\n",
    "from matplotlib.pyplot import figure, imshow, show\n",
    "import matplotlib\n",
    "import numpy as np\n",
    "\n",
    "\n",
    "convert_to_pil = torchvision.transforms.ToPILImage()\n",
    "\n",
    "def get_transform(train):\n",
    "    transforms = []\n",
    "    transforms.append(T.ToTensor())\n",
    "    return T.Compose(transforms)\n",
    "\n",
    "# Datasets\n",
    "dataset_train, num_classes, label_names = get_coco(data_path, image_set='train')\n",
    "dataset_test, _, _ = get_coco(data_path, image_set='val')\n",
    "\n",
    "# Samplers\n",
    "train_sampler = torch.utils.data.SequentialSampler(dataset_train)\n",
    "test_sampler = torch.utils.data.SequentialSampler(dataset_test)\n",
    "\n",
    "train_batch_sampler = torch.utils.data.BatchSampler(\n",
    "    train_sampler, 1, drop_last=True)\n",
    "\n",
    "# Loaders\n",
    "data_loader_train = torch.utils.data.DataLoader(\n",
    "    dataset_train, batch_sampler=train_batch_sampler, num_workers=workers,\n",
    "    collate_fn=utils.collate_fn)\n",
    "data_loader_test = torch.utils.data.DataLoader(\n",
    "    dataset_test, batch_size=1,\n",
    "    sampler=test_sampler, num_workers=workers,\n",
    "    collate_fn=utils.collate_fn)"
   ]
  },
  {
   "cell_type": "code",
   "execution_count": null,
   "metadata": {
    "scrolled": false
   },
   "outputs": [],
   "source": [
    "matplotlib.rcParams['figure.dpi'] = DPI  # This has to be run in a new cell for some reason\n",
    "\n",
    "def print_dataset_samples(data_loader):\n",
    "    images_evaluated = 0\n",
    "    for image, targets in data_loader:\n",
    "        image = list(img.to('cpu') for img in image)\n",
    "        targets = [{k: v.to('cpu') for k, v in t.items()} for t in targets]\n",
    "\n",
    "        boxes = targets[0]['boxes']\n",
    "        labels = targets[0]['labels']\n",
    "        image_with_boxes = utils.draw_boxes(\n",
    "            image[0], boxes, labels, label_names, vert_size=vert_size,\n",
    "            line_width=line_width, draw_label=draw_labels\n",
    "        )\n",
    "        print(f\"\\nImage number {images_evaluated} | Image size:{image[0].shape}\")\n",
    "        figure()\n",
    "        imshow(np.asarray(convert_to_pil(image_with_boxes)))\n",
    "        show()\n",
    "        images_evaluated += 1\n"
   ]
  },
  {
   "cell_type": "code",
   "execution_count": null,
   "metadata": {
    "scrolled": false
   },
   "outputs": [],
   "source": [
    "# Run data_loader_train or data_loader_test, but not both together or you will probably run out of GPU memory\n",
    "print_dataset_samples(data_loader_train)"
   ]
  },
  {
   "cell_type": "code",
   "execution_count": null,
   "metadata": {},
   "outputs": [],
   "source": []
  }
 ],
 "metadata": {
  "kernelspec": {
   "display_name": "Python 3",
   "language": "python",
   "name": "python3"
  },
  "language_info": {
   "codemirror_mode": {
    "name": "ipython",
    "version": 3
   },
   "file_extension": ".py",
   "mimetype": "text/x-python",
   "name": "python",
   "nbconvert_exporter": "python",
   "pygments_lexer": "ipython3",
   "version": "3.6.7"
  }
 },
 "nbformat": 4,
 "nbformat_minor": 2
}
